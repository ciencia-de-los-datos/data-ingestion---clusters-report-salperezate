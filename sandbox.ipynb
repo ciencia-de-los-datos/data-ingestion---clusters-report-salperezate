{
 "cells": [
  {
   "cell_type": "code",
   "execution_count": 2,
   "metadata": {},
   "outputs": [
    {
     "ename": "ValueError",
     "evalue": "not enough values to unpack (expected 4, got 1)",
     "output_type": "error",
     "traceback": [
      "\u001b[0;31m---------------------------------------------------------------------------\u001b[0m",
      "\u001b[0;31mValueError\u001b[0m                                Traceback (most recent call last)",
      "Cell \u001b[0;32mIn[2], line 12\u001b[0m\n\u001b[1;32m     10\u001b[0m line \u001b[39m=\u001b[39m line\u001b[39m.\u001b[39mstrip()\n\u001b[1;32m     11\u001b[0m \u001b[39mif\u001b[39;00m line:\n\u001b[0;32m---> 12\u001b[0m     cluster, count, percentage, keywords \u001b[39m=\u001b[39m line\u001b[39m.\u001b[39msplit(\u001b[39m'\u001b[39m\u001b[39m\\t\u001b[39;00m\u001b[39m'\u001b[39m)\n\u001b[1;32m     13\u001b[0m     keywords \u001b[39m=\u001b[39m [keyword\u001b[39m.\u001b[39mstrip() \u001b[39mfor\u001b[39;00m keyword \u001b[39min\u001b[39;00m keywords\u001b[39m.\u001b[39msplit(\u001b[39m'\u001b[39m\u001b[39m,\u001b[39m\u001b[39m'\u001b[39m)]\n\u001b[1;32m     14\u001b[0m     data\u001b[39m.\u001b[39mappend({\n\u001b[1;32m     15\u001b[0m         \u001b[39m'\u001b[39m\u001b[39mcluster\u001b[39m\u001b[39m'\u001b[39m: cluster,\n\u001b[1;32m     16\u001b[0m         \u001b[39m'\u001b[39m\u001b[39mcantidad_de_palabras_clave\u001b[39m\u001b[39m'\u001b[39m: count,\n\u001b[1;32m     17\u001b[0m         \u001b[39m'\u001b[39m\u001b[39mporcentaje_de_palabras_clave\u001b[39m\u001b[39m'\u001b[39m: percentage,\n\u001b[1;32m     18\u001b[0m         \u001b[39m'\u001b[39m\u001b[39mprincipales_palabras_clave\u001b[39m\u001b[39m'\u001b[39m: keywords\n\u001b[1;32m     19\u001b[0m     })\n",
      "\u001b[0;31mValueError\u001b[0m: not enough values to unpack (expected 4, got 1)"
     ]
    }
   ],
   "source": [
    "import pandas as pd\n",
    "\n",
    "# Leer el archivo de texto y almacenar las líneas en una lista\n",
    "with open('clusters_report.txt', 'r') as f:\n",
    "    lines = f.readlines()\n",
    "\n",
    "# Eliminar los caracteres especiales y separar cada línea por tabulaciones\n",
    "data = []\n",
    "for line in lines:\n",
    "    line = line.strip()\n",
    "    if line:\n",
    "        cluster, count, percentage, keywords = line.split('\\t')\n",
    "        keywords = [keyword.strip() for keyword in keywords.split(',')]\n",
    "        data.append({\n",
    "            'cluster': cluster,\n",
    "            'cantidad_de_palabras_clave': count,\n",
    "            'porcentaje_de_palabras_clave': percentage,\n",
    "            'principales_palabras_clave': keywords\n",
    "        })\n",
    "\n",
    "# Crear el dataframe de Pandas a partir de la lista de diccionarios\n",
    "df = pd.DataFrame(data)\n",
    "\n",
    "# Renombrar las columnas en minúsculas con guiones bajos en lugar de espacios\n",
    "df.columns = [col.lower().replace(' ', '_') for col in df.columns]\n",
    "\n",
    "print(df)\n"
   ]
  },
  {
   "cell_type": "code",
   "execution_count": null,
   "metadata": {},
   "outputs": [],
   "source": [
    "\"\"\"\n",
    "Ingestión de datos - Reporte de clusteres\n",
    "-----------------------------------------------------------------------------------------\n",
    "\n",
    "Construya un dataframe de Pandas a partir del archivo 'clusters_report.txt', teniendo en\n",
    "cuenta que los nombres de las columnas deben ser en minusculas, reemplazando los espacios\n",
    "por guiones bajos; y que las palabras clave deben estar separadas por coma y con un solo \n",
    "espacio entre palabra y palabra.\n",
    "\n",
    "\n",
    "\"\"\"\n",
    "\n",
    "import pandas as pd\n",
    "\n",
    "\n",
    "def ingest_data():\n",
    "    df=pd.read_fwf('clusters_report.txt',widths=[9,16,16,77])\n",
    "    df=df.fillna(method='ffill')\n",
    "    df=df.groupby(df.columns[0]).agg({df.columns[1]: 'first', df.columns[2]: 'first', df.columns[3]: lambda x: ' '.join(x)}).reset_index()\n",
    "    df=df.rename(columns={'Cluster':'cluster','Cantidad de':'cantidad_de_palabras_clave','Porcentaje de':'porcentaje_de_palabras_clave','Principales palabras clave':'principales_palabras_clave'})\n",
    "    df.drop(0,axis=0,inplace=True)\n",
    "    \n",
    "    df['cluster'] = df['cluster'].astype(int)\n",
    "    df = df.sort_values('cluster')\n",
    "    df['cantidad_de_palabras_clave'] = df['cantidad_de_palabras_clave'].astype(int)\n",
    "\n",
    "    df['porcentaje_de_palabras_clave']=df['porcentaje_de_palabras_clave'].str.replace('%', '', regex=True)\n",
    "    df['porcentaje_de_palabras_clave'] = df['porcentaje_de_palabras_clave'].str.replace(',', '.', regex=True).astype(float)\n",
    "\n",
    "    df['principales_palabras_clave']=df['principales_palabras_clave'].str.replace('\\s+', ' ', regex=True)\n",
    "    df['principales_palabras_clave']=df['principales_palabras_clave'].str.replace(',+', ',', regex=True)\n",
    "    df['principales_palabras_clave'] = df['principales_palabras_clave'].apply(lambda x: x.replace('.', ''))\n",
    "\n",
    "    return df"
   ]
  }
 ],
 "metadata": {
  "kernelspec": {
   "display_name": "Python 3",
   "language": "python",
   "name": "python3"
  },
  "language_info": {
   "codemirror_mode": {
    "name": "ipython",
    "version": 3
   },
   "file_extension": ".py",
   "mimetype": "text/x-python",
   "name": "python",
   "nbconvert_exporter": "python",
   "pygments_lexer": "ipython3",
   "version": "3.11.0"
  },
  "orig_nbformat": 4
 },
 "nbformat": 4,
 "nbformat_minor": 2
}
